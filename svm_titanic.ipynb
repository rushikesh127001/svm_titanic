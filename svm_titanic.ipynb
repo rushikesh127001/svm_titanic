{
 "cells": [
  {
   "cell_type": "code",
   "execution_count": 83,
   "metadata": {
    "collapsed": true,
    "pycharm": {
     "name": "#%%\n"
    }
   },
   "outputs": [],
   "source": [
    "# ********** IMPORT LIBRARIES **************#\n",
    "\n",
    "\n",
    "import numpy as np  # for handling multi-dimensional array operation\n",
    "import pandas as pd  # for reading data from csv\n",
    "#import statsmodels.api as sm  # for finding the p-value\n",
    "from sklearn.preprocessing import MinMaxScaler  # for normalization\n",
    "from sklearn.model_selection import train_test_split as tts\n",
    "from sklearn.metrics import accuracy_score\n",
    "from sklearn.utils import shuffle\n",
    "\n"
   ]
  },
  {
   "cell_type": "code",
   "execution_count": 86,
   "outputs": [],
   "source": [
    "# *********** Change all string feautres to numeric values ********\n",
    "\n",
    "data=pd.read_csv('data/train.csv')\n",
    "survival_map={1:1,0:-1}\n",
    "gender_map={\"male\":1,\"female\":0}\n",
    "data['Survived']=data[\"Survived\"].map(survival_map)\n",
    "data[\"Sex\"]=data[\"Sex\"].map(gender_map)\n",
    "\n",
    "# data.drop(data.columns[[-1, 1]], axis=1, inplace=True)\n",
    "data=data.drop([\"Name\",'SibSp',\"Parch\",'Ticket','Cabin',\"Embarked\"],axis=1)\n",
    "\n"
   ],
   "metadata": {
    "collapsed": false,
    "pycharm": {
     "name": "#%%\n"
    }
   }
  }
 ],
 "metadata": {
  "kernelspec": {
   "name": "pycharm-9aff8f00",
   "language": "python",
   "display_name": "PyCharm (scientificProject)"
  },
  "language_info": {
   "codemirror_mode": {
    "name": "ipython",
    "version": 2
   },
   "file_extension": ".py",
   "mimetype": "text/x-python",
   "name": "python",
   "nbconvert_exporter": "python",
   "pygments_lexer": "ipython2",
   "version": "2.7.6"
  }
 },
 "nbformat": 4,
 "nbformat_minor": 0
}