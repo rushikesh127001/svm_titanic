{
 "cells": [
  {
   "cell_type": "code",
   "execution_count": 83,
   "metadata": {
    "collapsed": true,
    "pycharm": {
     "name": "#%%\n"
    }
   },
   "outputs": [],
   "source": [
    "# ********** IMPORT LIBRARIES **************#\n",
    "\n",
    "\n",
    "import numpy as np  # for handling multi-dimensional array operation\n",
    "import pandas as pd  # for reading data from csv\n",
    "#import statsmodels.api as sm  # for finding the p-value\n",
    "from sklearn.preprocessing import MinMaxScaler  # for normalization\n",
    "from sklearn.model_selection import train_test_split as tts\n",
    "from sklearn.metrics import accuracy_score\n",
    "from sklearn.utils import shuffle\n",
    "\n"
   ]
  },
  {
   "cell_type": "code",
   "execution_count": 86,
   "outputs": [],
   "source": [
    "# *********** Change all string feautres to numeric values ********\n",
    "\n",
    "data=pd.read_csv('data/train.csv')\n",
    "survival_map={1:1,0:-1}\n",
    "gender_map={\"male\":1,\"female\":0}\n",
    "data['Survived']=data[\"Survived\"].map(survival_map)\n",
    "data[\"Sex\"]=data[\"Sex\"].map(gender_map)\n",
    "\n",
    "# data.drop(data.columns[[-1, 1]], axis=1, inplace=True)\n",
    "data=data.drop([\"Name\",'SibSp',\"Parch\",'Ticket','Cabin',\"Embarked\"],axis=1)\n"
   ],
   "metadata": {
    "collapsed": false,
    "pycharm": {
     "name": "#%%\n"
    }
   }
  },
  {
   "cell_type": "code",
   "execution_count": 87,
   "outputs": [],
   "source": [
    "#******** Removing Outliers using Inter Quarterile Range and replacing values with mean *********\n",
    "data=data.loc[data['Age'].between(9,58),]\n",
    "data=data.reset_index(drop=True,)\n",
    "\n",
    "data=data.reset_index(drop=True,)\n",
    "class_3_age=data.loc[data['Pclass']==3].Age.mean()\n",
    "class_2_age=data.loc[data['Pclass']==2].Age.mean()\n",
    "class_1_age=data.loc[data['Pclass']==1].Age.mean()\n",
    "def remove_null_age(data):\n",
    "    agee=data[0]\n",
    "    pclasss=data[1]\n",
    "    if pd.isnull(agee):\n",
    "        if pclasss==1:\n",
    "            return class_1_age\n",
    "        elif pclasss==2:\n",
    "            return class_2_age\n",
    "        else:\n",
    "            return  class_3_age\n",
    "\n",
    "    return agee\n",
    "data['Age']=data[[\"Age\",\"Pclass\"]].apply(remove_null_age,axis=1)\n",
    "Y = data.loc[:, 'Survived']  # all rows of 'diagnosis'\n",
    "X = data.iloc[:, 1:]\n",
    "X=X.drop([\"Survived\"],axis=1)\n"
   ],
   "metadata": {
    "collapsed": false,
    "pycharm": {
     "name": "#%%\n"
    }
   }
  },
  {
   "cell_type": "code",
   "execution_count": null,
   "outputs": [],
   "source": [
    "#*********** Normalizing the valeues *******************\n",
    "\n",
    "X_normalized = MinMaxScaler().fit_transform(X.values)\n",
    "X = pd.DataFrame(X_normalized)\n",
    " #for w.x+b we can directly implement --> x.w with x having a last column as 1's\n",
    "# so\n",
    "X.insert(loc=len(X.columns), column='intercept', value=1)\n",
    "\n",
    "\n",
    "X_train, X_test, y_train, y_test = tts(X, Y, test_size=0.2, random_state=5)\n"
   ],
   "metadata": {
    "collapsed": false,
    "pycharm": {
     "name": "#%%\n"
    }
   }
  },
  {
   "cell_type": "code",
   "execution_count": null,
   "outputs": [],
   "source": [
    "#************* Actual SVM Model *********************\n",
    "\n",
    "def compute_cost(W,X,Y):\n",
    "    N=X.shape(0)\n",
    "    reg_strength = 20000\n",
    "    distances=1-(Y*(np.dot(W,X)))\n",
    "    print(distances[distances<0])\n",
    "    distances[distances < 0] = 0\n",
    "    hinge_loss = reg_strength * (np.sum(distances) / N)\n",
    "    cost = 1 / 2 * np.dot(W, W) + hinge_loss\n",
    "    return cost\n",
    "\n",
    "def calculate_grad_descent(x,y,W):\n",
    "    # as implemented stochastic gd ...only singl vals of x,y are passed\n",
    "    # so theyre basically ints...convert them to numpy array so\n",
    "    # that this func also works wid basic vanilla gd also... where whole\n",
    "    # features n outputs are passed in each iteration as (np arrays)...\n",
    "    # actually theirs no other need to convert them to np arrays...\n",
    "    # reg_strenght is the C val...regularisation term...tho here c=1/lambda\n",
    "    # type is used...ie instead of c lambda is used...\n",
    "    reg_strength = 20000\n",
    "    if type(y) == np.int64 or type(y)==np.float64 :\n",
    "        y = np.array([y])\n",
    "        x = np.array([x])\n",
    "\n",
    "    #distance :\n",
    "    # if y(i)=1 --> wx-b>=1 ...so tht when we use max func 0 gets selected..\n",
    "    # if y(i)= -1 --> wx-b<=-1 \"\" \"\" \"\" .. 1- (-1)(something less than -1)..\n",
    "    # will result in 1- (something gr8er than 1) -1 n (-xyz) gets cancelled\n",
    "    # this is the ideal situation we want... thats why we try to set W\n",
    "    #  so as to get above result s and minimise cost...\n",
    "\n",
    "    distance=1-(y*np.dot(x,W))\n",
    "    derivative=np.zeros(len(W))\n",
    "\n",
    "    for index,dist in enumerate(distance):\n",
    "        if max(0,dist)==0:\n",
    "            der=W\n",
    "        else:\n",
    "            der=W-(reg_strength*x*y)\n",
    "        # print(np.shape(derivative))\n",
    "        # print(np.shape(der))\n",
    "\n",
    "        derivative+=np.squeeze(der)\n",
    "\n",
    "    derivative=derivative/len(y)\n",
    "    return derivative\n",
    "\n",
    "def sgd(features,outputs):\n",
    "    # features is our training set X and outputs is y\n",
    "    #max number of tyms we want our sgd loop to run\n",
    "    max_iters=10000\n",
    "    # the w matrix of parameters ...these describe the boundary line\n",
    "    # its values are manupilated so as to minimse the cost\n",
    "\n",
    "    #weights is a 1-D array of dimensions(31,)...\n",
    "    # its different from 2D array of 1 col i.e (31,1)\n",
    "    # it has 31 rows and 1 column whereas former is just 1D 31 values\n",
    "    # !!!!gives problems when multiplying tho looks same\n",
    "    weights = np.zeros(features.shape[1])\n",
    "\n",
    "    #iterate a fixed num of times for now.... later updating it wid stopag\n",
    "    # criteria\n",
    "    # TODO implement stoppage criteria st if cost isnt decreasing much\n",
    "    #  or gd of consecutive values isnt much diff...stop\n",
    "    for iters in range(1,max_iters):\n",
    "        # shuffle values...cuz in sotchastic gd only 1 value enters the\n",
    "        # formula of comute_gd...i.e tht funcn is called 430 tyms(no of rows)\n",
    "        X,Y=shuffle(features,outputs)\n",
    "        for i,x in enumerate(X):\n",
    "            #gd for tht x value which entered in ccalce_grad_des func\n",
    "            ascent=calculate_grad_descent(x,Y[i],weights)\n",
    "            # 0.00001 is the learning rate \"alpha\" mostly known as\n",
    "            weights=weights-(0.0001*ascent)\n",
    "\n",
    "    return weights\n",
    "print(\"training started...\")\n",
    "\n",
    "# X_train is a 455 row 31 column matrix with each column depecting a feature.\n",
    "# sgd is stochastic gradient descent calculator.. in sgd func we find the S grad desc\n",
    "# and traverse in opp directn of it.\n",
    "W = sgd(X_train.to_numpy(), y_train.to_numpy())\n",
    "print(\"training finished.\")\n",
    "print(\"weights are: {}\".format(W))"
   ],
   "metadata": {
    "collapsed": false,
    "pycharm": {
     "name": "#%%\n"
    }
   }
  },
  {
   "cell_type": "code",
   "execution_count": null,
   "outputs": [],
   "source": [
    "# ***** evaluating the model**********\n",
    "\n",
    "\n",
    "y_test_predicted=np.array([])\n",
    "for i,d in enumerate(y_test):\n",
    "    yp=np.sign(np.dot(W,X_test.to_numpy()[i]))\n",
    "    y_test_predicted=np.append(y_test_predicted,yp)\n",
    "\n",
    "print(\"accuracy on test dataset: {}\".format(accuracy_score(y_test.to_numpy(), y_test_predicted)))\n",
    "\n",
    "\n",
    "\n",
    "\n",
    "\n",
    "\n"
   ],
   "metadata": {
    "collapsed": false,
    "pycharm": {
     "name": "#%%\n"
    }
   }
  }
 ],
 "metadata": {
  "kernelspec": {
   "name": "pycharm-9aff8f00",
   "language": "python",
   "display_name": "PyCharm (scientificProject)"
  },
  "language_info": {
   "codemirror_mode": {
    "name": "ipython",
    "version": 2
   },
   "file_extension": ".py",
   "mimetype": "text/x-python",
   "name": "python",
   "nbconvert_exporter": "python",
   "pygments_lexer": "ipython2",
   "version": "2.7.6"
  }
 },
 "nbformat": 4,
 "nbformat_minor": 0
}