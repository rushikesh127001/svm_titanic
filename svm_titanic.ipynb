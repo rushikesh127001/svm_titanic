{
 "cells": [
  {
   "cell_type": "code",
   "execution_count": 83,
   "metadata": {
    "collapsed": true,
    "pycharm": {
     "name": "#%%\n"
    }
   },
   "outputs": [],
   "source": [
    "# ********** IMPORT LIBRARIES **************#\n",
    "\n",
    "\n",
    "import numpy as np  # for handling multi-dimensional array operation\n",
    "import pandas as pd  # for reading data from csv\n",
    "#import statsmodels.api as sm  # for finding the p-value\n",
    "from sklearn.preprocessing import MinMaxScaler  # for normalization\n",
    "from sklearn.model_selection import train_test_split as tts\n",
    "from sklearn.metrics import accuracy_score\n",
    "from sklearn.utils import shuffle\n",
    "\n"
   ]
  },
  {
   "cell_type": "code",
   "execution_count": 86,
   "outputs": [],
   "source": [
    "# *********** Change all string feautres to numeric values ********\n",
    "\n",
    "data=pd.read_csv('data/train.csv')\n",
    "survival_map={1:1,0:-1}\n",
    "gender_map={\"male\":1,\"female\":0}\n",
    "data['Survived']=data[\"Survived\"].map(survival_map)\n",
    "data[\"Sex\"]=data[\"Sex\"].map(gender_map)\n",
    "\n",
    "# data.drop(data.columns[[-1, 1]], axis=1, inplace=True)\n",
    "data=data.drop([\"Name\",'SibSp',\"Parch\",'Ticket','Cabin',\"Embarked\"],axis=1)\n"
   ],
   "metadata": {
    "collapsed": false,
    "pycharm": {
     "name": "#%%\n"
    }
   }
  },
  {
   "cell_type": "code",
   "execution_count": 87,
   "outputs": [],
   "source": [
    "#******** Removing Outliers using Inter Quarterile Range and replacing values with mean *********\n",
    "data=data.loc[data['Age'].between(9,58),]\n",
    "data=data.reset_index(drop=True,)\n",
    "\n",
    "data=data.reset_index(drop=True,)\n",
    "class_3_age=data.loc[data['Pclass']==3].Age.mean()\n",
    "class_2_age=data.loc[data['Pclass']==2].Age.mean()\n",
    "class_1_age=data.loc[data['Pclass']==1].Age.mean()\n",
    "def remove_null_age(data):\n",
    "    agee=data[0]\n",
    "    pclasss=data[1]\n",
    "    if pd.isnull(agee):\n",
    "        if pclasss==1:\n",
    "            return class_1_age\n",
    "        elif pclasss==2:\n",
    "            return class_2_age\n",
    "        else:\n",
    "            return  class_3_age\n",
    "\n",
    "    return agee\n",
    "data['Age']=data[[\"Age\",\"Pclass\"]].apply(remove_null_age,axis=1)\n",
    "Y = data.loc[:, 'Survived']  # all rows of 'diagnosis'\n",
    "X = data.iloc[:, 1:]\n",
    "X=X.drop([\"Survived\"],axis=1)\n"
   ],
   "metadata": {
    "collapsed": false,
    "pycharm": {
     "name": "#%%\n"
    }
   }
  },
  {
   "cell_type": "code",
   "execution_count": null,
   "outputs": [],
   "source": [
    "#*********** Normalizing the valeues *******************\n",
    "\n",
    "X_normalized = MinMaxScaler().fit_transform(X.values)\n",
    "X = pd.DataFrame(X_normalized)\n",
    " #for w.x+b we can directly implement --> x.w with x having a last column as 1's\n",
    "# so\n",
    "X.insert(loc=len(X.columns), column='intercept', value=1)\n",
    "\n",
    "\n",
    "X_train, X_test, y_train, y_test = tts(X, Y, test_size=0.2, random_state=5)\n"
   ],
   "metadata": {
    "collapsed": false,
    "pycharm": {
     "name": "#%%\n"
    }
   }
  }
 ],
 "metadata": {
  "kernelspec": {
   "name": "pycharm-9aff8f00",
   "language": "python",
   "display_name": "PyCharm (scientificProject)"
  },
  "language_info": {
   "codemirror_mode": {
    "name": "ipython",
    "version": 2
   },
   "file_extension": ".py",
   "mimetype": "text/x-python",
   "name": "python",
   "nbconvert_exporter": "python",
   "pygments_lexer": "ipython2",
   "version": "2.7.6"
  }
 },
 "nbformat": 4,
 "nbformat_minor": 0
}